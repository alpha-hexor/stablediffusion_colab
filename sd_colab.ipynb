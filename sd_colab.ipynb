{
 "cells": [
  {
   "cell_type": "markdown",
   "metadata": {},
   "source": [
    "# **StableDiffusion GoogleColab version**\n",
    "\n",
    "_This code will permanently store models and stuff in your google drive. You just have to run requirements and stuff from the second time and so on. Enable gpu from runtime_"
   ]
  },
  {
   "cell_type": "code",
   "execution_count": null,
   "metadata": {},
   "outputs": [],
   "source": [
    "#@markdown # **STEP 1**\n",
    "#@markdown ## Accessing gdrive [Have to run every time]\n",
    "\n",
    "from google.colab import drive\n",
    "drive.mount('/content/gdrive')\n"
   ]
  },
  {
   "cell_type": "code",
   "execution_count": null,
   "metadata": {},
   "outputs": [],
   "source": [
    "#@markdown # **STEP 1.1**\n",
    "#@markdown ## Installation [Only run it for the first time]\n",
    "\n",
    "%cd /content/gdrive/MyDrive\n",
    "print('\u001b[1;32mInstalling repo...')\n",
    "!git clone -q --branch main https://github.com/alpha-hexor/lite_colab"
   ]
  },
  {
   "cell_type": "code",
   "execution_count": null,
   "metadata": {},
   "outputs": [],
   "source": [
    "#@markdown # **STEP 2**\n",
    "#@markdown ## Installing Requirements [Have to run every time]\n",
    "\n",
    "%cd /content/gdrive/MyDrive/lite_colab/\n",
    "%pip install -r requirements.txt --quiet\n",
    "!sed -i \"s@os.path.splitext(checkpoint_file)@os.path.splitext(checkpoint_file); map_location='cuda'@\" /content/gdrive/MyDrive/lite_colab/modules/sd_models.py\n",
    "!sed -i 's@ui.create_ui().*@ui.create_ui();shared.demo.queue(concurrency_count=999999,status_update_rate=0.1)@' /content/gdrive/MyDrive/lite_colab/startfk.py\n",
    "!sed -i \"s@map_location='cpu'@map_location='cuda'@\" /content/gdrive/MyDrive/lite_colab/modules/extras.py\n",
    "!cp /content/gdrive/MyDrive/lite_colab/assets/blocks.py /usr/local/lib/python3.10/dist-packages/gradio/blocks.py"
   ]
  },
  {
   "cell_type": "code",
   "execution_count": null,
   "metadata": {},
   "outputs": [],
   "source": [
    "#@markdown # **STEP 3**\n",
    "#@markdown ## Download your model [run as per your requirements]\n",
    "#@markdown _Paste link from huggingface.co or civitai.com\n",
    "#@markdown MODEL_LINK direct download link of the model\n",
    "#@markdown MODEL_NAME output model name with extension(eg: safetensors, ckpt)\n",
    "\n",
    "MODEL_LINK = \"\" #@param {type:\"string\"}\n",
    "MODEL_NAME = \"model.safetensors\" #@param {type:\"string\"}\n",
    "\n",
    "!wget \"$MODEL_LINK\" -O \"/content/gdrive/MyDrive/lite_colab/models/Stable-diffusion/$MODEL_NAME\""
   ]
  },
  {
   "cell_type": "code",
   "execution_count": null,
   "metadata": {},
   "outputs": [],
   "source": [
    "#@markdown # **STEP 4**\n",
    "#@markdown ## Installing Additional Repos [only run for the first time]\n",
    "\n",
    "!git clone https://github.com/Stability-AI/stablediffusion.git stable-diffusion-stability-ai\n",
    "!git clone https://github.com/CompVis/taming-transformers.git taming-transformers\n",
    "!git clone https://github.com/crowsonkb/k-diffusion.git k-diffusion   \n",
    "!git clone https://github.com/sczhou/CodeFormer.git\n",
    "!git clone https://github.com/salesforce/BLIP.git"
   ]
  },
  {
   "cell_type": "code",
   "execution_count": null,
   "metadata": {},
   "outputs": [],
   "source": [
    "#@markdown # **STEP 5**\n",
    "#@markdown ## Final step: Starting stable diffusion webui [have to run every time]\n",
    "\n",
    "%cd /content/gdrive/MyDrive/lite_colab/\n",
    "\n",
    "!python launch.py --share --api --disable-safe-unpickle --enable-insecure-extension-access --opt-sdp-attention --disable-console-progressbars --no-download-sd-model"
   ]
  }
 ],
 "metadata": {
  "language_info": {
   "name": "python"
  },
  "orig_nbformat": 4
 },
 "nbformat": 4,
 "nbformat_minor": 2
}
